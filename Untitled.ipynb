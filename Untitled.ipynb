{
 "cells": [
  {
   "cell_type": "code",
   "execution_count": 17,
   "id": "402735ac",
   "metadata": {},
   "outputs": [],
   "source": [
    "import numpy as np\n",
    "import matplotlib.pyplot as plt\n",
    "import sympy as sym\n",
    "from sklearn.linear_model import LinearRegression"
   ]
  },
  {
   "cell_type": "markdown",
   "id": "36c155c8",
   "metadata": {},
   "source": [
    "### Задача 1\n",
    "    Даны значения величины заработной платы заемщиков банка (zp) и значения их поведенческого кредитного скоринга (ks): \n",
    "\n",
    "    zp = [35, 45, 190, 200, 40, 70, 54, 150, 120, 110], \n",
    "\n",
    "    ks = [401, 574, 874, 919, 459, 739, 653, 902, 746, 832]. \n",
    "\n",
    "    Используя математические операции, посчитать коэффициенты линейной регрессии, приняв за X заработную плату (то есть, zp -\n",
    "    признак), а за y - значения скорингового балла (то есть, ks - целевая переменная). Произвести расчет как с использованием\n",
    "    intercept, так и без."
   ]
  },
  {
   "cell_type": "code",
   "execution_count": 18,
   "id": "dfad64d9",
   "metadata": {},
   "outputs": [],
   "source": [
    "zp = np.array([35, 45, 190, 200, 40, 70, 54, 150, 120, 110])\n",
    "ks = np.array([401, 574, 874, 919, 459, 739, 653, 902, 746, 832])"
   ]
  },
  {
   "cell_type": "code",
   "execution_count": 19,
   "id": "673e89da",
   "metadata": {},
   "outputs": [
    {
     "data": {
      "text/plain": [
       "2.620538882402765"
      ]
     },
     "execution_count": 19,
     "metadata": {},
     "output_type": "execute_result"
    }
   ],
   "source": [
    "b1 = ((zp * ks).mean() - (zp).mean() * (ks).mean()) / ((zp ** 2).mean() - zp.mean() ** 2)\n",
    "b1"
   ]
  },
  {
   "cell_type": "code",
   "execution_count": 20,
   "id": "3c45ca6c",
   "metadata": {},
   "outputs": [
    {
     "data": {
      "text/plain": [
       "444.1773573243596"
      ]
     },
     "execution_count": 20,
     "metadata": {},
     "output_type": "execute_result"
    }
   ],
   "source": [
    "b0 = ks.mean() - b1 * zp.mean()\n",
    "b0"
   ]
  },
  {
   "cell_type": "code",
   "execution_count": 21,
   "id": "ea86ce29",
   "metadata": {},
   "outputs": [],
   "source": [
    "b0 = np.mean(ks) - b1 * np.mean(zp)"
   ]
  },
  {
   "cell_type": "code",
   "execution_count": 22,
   "id": "2a98f18f",
   "metadata": {},
   "outputs": [
    {
     "name": "stdout",
     "output_type": "stream",
     "text": [
      "b1 расчитанный матричным способом = 2.6205388824027693\n",
      "b0 расчитанный матричным способом = 444.1773573243595\n",
      "b1 без использования интерцепта = 5.889820420132688\n"
     ]
    }
   ],
   "source": [
    "x = zp.reshape((10,1))\n",
    "y = ks.reshape((10,1))\n",
    "X = np.hstack([np.ones((10,1)),x])\n",
    "B = np.dot(np.linalg.inv(np.dot(X.T,X)),X.T @ y)\n",
    "print(f'b1 расчитанный матричным способом = {float(B[1])}')\n",
    "print(f'b0 расчитанный матричным способом = {float(B[0])}')\n",
    "B1 = np.dot(np.linalg.inv(np.dot(x.T,x)),x.T @ y)\n",
    "print(f'b1 без использования интерцепта = {float(B1[0])}')\n"
   ]
  },
  {
   "cell_type": "markdown",
   "id": "f13c9faf",
   "metadata": {},
   "source": [
    "### Задача 2\n",
    "    Посчитать коэффициент линейной регрессии при заработной плате (zp), используя градиентный спуск (без intercept).\n"
   ]
  },
  {
   "cell_type": "code",
   "execution_count": 23,
   "id": "c04760df",
   "metadata": {},
   "outputs": [
    {
     "name": "stdout",
     "output_type": "stream",
     "text": [
      "Iteration = 1, B1 = 0.25952808, mse = 493237.7212546963\n",
      "Iteration = 301, B1 = 5.888531320728348, mse = 56516.88130936021\n",
      "Iteration = 601, B1 = 5.889820124983314, mse = 56516.85841572061\n",
      "Iteration = 901, B1 = 5.889820420065112, mse = 56516.858415719405\n",
      "Iteration = 1201, B1 = 5.889820420132673, mse = 56516.85841571942\n",
      "Iteration = 1501, B1 = 5.889820420132673, mse = 56516.85841571942\n"
     ]
    }
   ],
   "source": [
    "zp = np.array([35, 45, 190, 200, 40, 70, 54, 150, 120, 110])\n",
    "ks = np.array([401, 574, 874, 919, 459, 739, 653, 902, 746, 832])\n",
    "alpha = 1e-6\n",
    "B1 = 0.1\n",
    "n = len(zp)\n",
    "def mse_(B1, x, y, n):\n",
    "    return np.sum((B1*x-y)**2/n)\n",
    "for i in range(1501):\n",
    "    B1 -= alpha * 2/n * np.sum((B1*zp-ks)*zp)\n",
    "    \n",
    "    if i % 300 == 0:\n",
    "        print('Iteration = {i}, B1 = {B1}, mse = {mse}'.format(i = i+1, B1 = B1, mse = mse_(B1,zp,ks,n)))"
   ]
  },
  {
   "cell_type": "markdown",
   "id": "530265b5",
   "metadata": {},
   "source": [
    "mse = 56516.86 (B1 = 5.8898)"
   ]
  },
  {
   "cell_type": "markdown",
   "id": "fb012383",
   "metadata": {},
   "source": [
    "### Задача 3\n",
    "    Произвести вычисления как в пункте 2, но с вычислением intercept. Учесть, что изменение коэффициентов должно производиться\n",
    "    на каждом шаге одновременно (то есть изменение одного коэффициента не должно влиять на изменение другого во время одной\n",
    "    итерации).\n"
   ]
  },
  {
   "cell_type": "code",
   "execution_count": 25,
   "id": "eacae8c2",
   "metadata": {},
   "outputs": [
    {
     "name": "stdout",
     "output_type": "stream",
     "text": [
      "Iteration = 1, B0 = 697.9736613471999, B1 = 0.117616752, mse = 28363.003010323362\n",
      "Iteration = 501, B0 = 451.7885682296486, B1 = 2.545477630871315, mse = 6490.1036720954535\n",
      "Iteration = 1001, B0 = 444.4056133333185, B1 = 2.6182878369495213, mse = 6470.431909236147\n",
      "Iteration = 1501, B0 = 444.18420259592955, B1 = 2.6204713747935937, mse = 6470.414217102702\n",
      "Iteration = 2001, B0 = 444.1775626102712, B1 = 2.6205368578868717, mse = 6470.414201190984\n",
      "Iteration = 2501, B0 = 444.1773634807705, B1 = 2.6205388216886534, mse = 6470.414201176674\n",
      "Iteration = 3001, B0 = 444.17735750898674, B1 = 2.6205388805819845, mse = 6470.414201176659\n",
      "Iteration = 3501, B0 = 444.17735732989627, B1 = 2.620538882348163, mse = 6470.414201176658\n",
      "Iteration = 4001, B0 = 444.1773573245255, B1 = 2.6205388824011293, mse = 6470.414201176657\n",
      "Iteration = 4501, B0 = 444.17735732436466, B1 = 2.6205388824027147, mse = 6470.414201176659\n",
      "Iteration = 5001, B0 = 444.1773573243627, B1 = 2.6205388824027347, mse = 6470.41420117666\n",
      "Iteration = 5501, B0 = 444.1773573243627, B1 = 2.6205388824027347, mse = 6470.41420117666\n",
      "444.1773573243596\n",
      "[2.62053888]\n"
     ]
    }
   ],
   "source": [
    "model = LinearRegression()\n",
    "zp = np.array([35, 45, 190, 200, 40, 70, 54, 150, 120, 110])\n",
    "ks = np.array([401, 574, 874, 919, 459, 739, 653, 902, 746, 832])\n",
    "alpha = 1e-6\n",
    "B1 = 0.1\n",
    "B0 = np.mean(ks) - B1 * np.mean(zp)\n",
    "n = len(zp)\n",
    "def mse_(B0,B1, x, y, n):\n",
    "    return np.sum((B0+B1*x-y)**2/n)\n",
    "for i in range(5501):    \n",
    "    B1 -= alpha * 2/n * np.sum((B0+B1*zp-ks)*zp)\n",
    "    B0 = np.mean(ks) - B1 * np.mean(zp)\n",
    "    if i % 500 == 0:\n",
    "        print(f'Iteration = {i+1}, B0 = {B0}, B1 = {B1}, mse = {mse_(B0,B1,zp,ks,n)}')\n",
    "\n",
    "zp = zp.reshape(-1,1)\n",
    "regres = model.fit(zp,ks)\n",
    "print(regres.intercept_)\n",
    "print(regres.coef_)"
   ]
  },
  {
   "cell_type": "code",
   "execution_count": null,
   "id": "506ecd3b",
   "metadata": {},
   "outputs": [],
   "source": []
  }
 ],
 "metadata": {
  "kernelspec": {
   "display_name": "Python 3 (ipykernel)",
   "language": "python",
   "name": "python3"
  },
  "language_info": {
   "codemirror_mode": {
    "name": "ipython",
    "version": 3
   },
   "file_extension": ".py",
   "mimetype": "text/x-python",
   "name": "python",
   "nbconvert_exporter": "python",
   "pygments_lexer": "ipython3",
   "version": "3.9.13"
  }
 },
 "nbformat": 4,
 "nbformat_minor": 5
}
